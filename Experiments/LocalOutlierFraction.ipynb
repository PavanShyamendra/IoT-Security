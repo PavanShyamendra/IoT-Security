{
 "cells": [
  {
   "cell_type": "code",
   "execution_count": 1,
   "id": "9b648b63",
   "metadata": {},
   "outputs": [],
   "source": [
    "import pandas as pd\n",
    "from sklearn.neighbors import LocalOutlierFactor\n",
    "import matplotlib.pyplot as plt\n",
    "from numpy import where\n",
    "import numpy as np\n"
   ]
  },
  {
   "cell_type": "code",
   "execution_count": 2,
   "id": "32042e9d",
   "metadata": {},
   "outputs": [
    {
     "name": "stderr",
     "output_type": "stream",
     "text": [
      "C:\\Users\\A2IN\\AppData\\Local\\Temp\\ipykernel_16308\\3358253211.py:1: DtypeWarning: Columns (8) have mixed types. Specify dtype option on import or set low_memory=False.\n",
      "  df = pd.read_csv(\"../dataset/DATA_FINAL.csv\")\n"
     ]
    }
   ],
   "source": [
    "df = pd.read_csv(\"../dataset/DATA_FINAL.csv\")\n"
   ]
  },
  {
   "cell_type": "code",
   "execution_count": 3,
   "id": "b4262c47",
   "metadata": {},
   "outputs": [
    {
     "data": {
      "text/html": [
       "<div>\n",
       "<style scoped>\n",
       "    .dataframe tbody tr th:only-of-type {\n",
       "        vertical-align: middle;\n",
       "    }\n",
       "\n",
       "    .dataframe tbody tr th {\n",
       "        vertical-align: top;\n",
       "    }\n",
       "\n",
       "    .dataframe thead th {\n",
       "        text-align: right;\n",
       "    }\n",
       "</style>\n",
       "<table border=\"1\" class=\"dataframe\">\n",
       "  <thead>\n",
       "    <tr style=\"text-align: right;\">\n",
       "      <th></th>\n",
       "      <th>RESP</th>\n",
       "      <th>ABPmean</th>\n",
       "      <th>ABPsys</th>\n",
       "      <th>ABPdias</th>\n",
       "      <th>Tblood</th>\n",
       "      <th>SpO2</th>\n",
       "      <th>HR</th>\n",
       "      <th>PULSE</th>\n",
       "      <th>ALARM</th>\n",
       "    </tr>\n",
       "  </thead>\n",
       "  <tbody>\n",
       "    <tr>\n",
       "      <th>0</th>\n",
       "      <td>15.0</td>\n",
       "      <td>89.0</td>\n",
       "      <td>114.0</td>\n",
       "      <td>78.0</td>\n",
       "      <td>37.1</td>\n",
       "      <td>100.0</td>\n",
       "      <td>101.0</td>\n",
       "      <td>100.0</td>\n",
       "      <td>False</td>\n",
       "    </tr>\n",
       "    <tr>\n",
       "      <th>1</th>\n",
       "      <td>15.0</td>\n",
       "      <td>89.0</td>\n",
       "      <td>114.0</td>\n",
       "      <td>78.0</td>\n",
       "      <td>37.1</td>\n",
       "      <td>100.0</td>\n",
       "      <td>101.0</td>\n",
       "      <td>101.0</td>\n",
       "      <td>False</td>\n",
       "    </tr>\n",
       "    <tr>\n",
       "      <th>2</th>\n",
       "      <td>15.0</td>\n",
       "      <td>89.0</td>\n",
       "      <td>113.0</td>\n",
       "      <td>78.0</td>\n",
       "      <td>37.1</td>\n",
       "      <td>100.0</td>\n",
       "      <td>101.0</td>\n",
       "      <td>101.0</td>\n",
       "      <td>False</td>\n",
       "    </tr>\n",
       "    <tr>\n",
       "      <th>3</th>\n",
       "      <td>15.0</td>\n",
       "      <td>89.0</td>\n",
       "      <td>113.0</td>\n",
       "      <td>78.0</td>\n",
       "      <td>37.1</td>\n",
       "      <td>100.0</td>\n",
       "      <td>101.0</td>\n",
       "      <td>101.0</td>\n",
       "      <td>False</td>\n",
       "    </tr>\n",
       "    <tr>\n",
       "      <th>4</th>\n",
       "      <td>15.0</td>\n",
       "      <td>89.0</td>\n",
       "      <td>114.0</td>\n",
       "      <td>78.0</td>\n",
       "      <td>37.1</td>\n",
       "      <td>100.0</td>\n",
       "      <td>101.0</td>\n",
       "      <td>101.0</td>\n",
       "      <td>False</td>\n",
       "    </tr>\n",
       "    <tr>\n",
       "      <th>...</th>\n",
       "      <td>...</td>\n",
       "      <td>...</td>\n",
       "      <td>...</td>\n",
       "      <td>...</td>\n",
       "      <td>...</td>\n",
       "      <td>...</td>\n",
       "      <td>...</td>\n",
       "      <td>...</td>\n",
       "      <td>...</td>\n",
       "    </tr>\n",
       "    <tr>\n",
       "      <th>131244</th>\n",
       "      <td>23.0</td>\n",
       "      <td>111.0</td>\n",
       "      <td>132.0</td>\n",
       "      <td>99.0</td>\n",
       "      <td>37.0</td>\n",
       "      <td>98.0</td>\n",
       "      <td>109.0</td>\n",
       "      <td>108.0</td>\n",
       "      <td>False</td>\n",
       "    </tr>\n",
       "    <tr>\n",
       "      <th>131245</th>\n",
       "      <td>23.0</td>\n",
       "      <td>111.0</td>\n",
       "      <td>132.0</td>\n",
       "      <td>100.0</td>\n",
       "      <td>37.0</td>\n",
       "      <td>98.0</td>\n",
       "      <td>109.0</td>\n",
       "      <td>108.0</td>\n",
       "      <td>False</td>\n",
       "    </tr>\n",
       "    <tr>\n",
       "      <th>131246</th>\n",
       "      <td>23.0</td>\n",
       "      <td>111.0</td>\n",
       "      <td>132.0</td>\n",
       "      <td>100.0</td>\n",
       "      <td>37.0</td>\n",
       "      <td>98.0</td>\n",
       "      <td>109.0</td>\n",
       "      <td>108.0</td>\n",
       "      <td>False</td>\n",
       "    </tr>\n",
       "    <tr>\n",
       "      <th>131247</th>\n",
       "      <td>23.0</td>\n",
       "      <td>112.0</td>\n",
       "      <td>133.0</td>\n",
       "      <td>101.0</td>\n",
       "      <td>37.0</td>\n",
       "      <td>98.0</td>\n",
       "      <td>109.0</td>\n",
       "      <td>108.0</td>\n",
       "      <td>False</td>\n",
       "    </tr>\n",
       "    <tr>\n",
       "      <th>131248</th>\n",
       "      <td>23.0</td>\n",
       "      <td>112.0</td>\n",
       "      <td>133.0</td>\n",
       "      <td>101.0</td>\n",
       "      <td>37.0</td>\n",
       "      <td>98.0</td>\n",
       "      <td>109.0</td>\n",
       "      <td>109.0</td>\n",
       "      <td>False</td>\n",
       "    </tr>\n",
       "  </tbody>\n",
       "</table>\n",
       "<p>131249 rows × 9 columns</p>\n",
       "</div>"
      ],
      "text/plain": [
       "        RESP  ABPmean  ABPsys  ABPdias  Tblood   SpO2     HR  PULSE  ALARM\n",
       "0       15.0     89.0   114.0     78.0    37.1  100.0  101.0  100.0  False\n",
       "1       15.0     89.0   114.0     78.0    37.1  100.0  101.0  101.0  False\n",
       "2       15.0     89.0   113.0     78.0    37.1  100.0  101.0  101.0  False\n",
       "3       15.0     89.0   113.0     78.0    37.1  100.0  101.0  101.0  False\n",
       "4       15.0     89.0   114.0     78.0    37.1  100.0  101.0  101.0  False\n",
       "...      ...      ...     ...      ...     ...    ...    ...    ...    ...\n",
       "131244  23.0    111.0   132.0     99.0    37.0   98.0  109.0  108.0  False\n",
       "131245  23.0    111.0   132.0    100.0    37.0   98.0  109.0  108.0  False\n",
       "131246  23.0    111.0   132.0    100.0    37.0   98.0  109.0  108.0  False\n",
       "131247  23.0    112.0   133.0    101.0    37.0   98.0  109.0  108.0  False\n",
       "131248  23.0    112.0   133.0    101.0    37.0   98.0  109.0  109.0  False\n",
       "\n",
       "[131249 rows x 9 columns]"
      ]
     },
     "execution_count": 3,
     "metadata": {},
     "output_type": "execute_result"
    }
   ],
   "source": [
    "df"
   ]
  },
  {
   "cell_type": "code",
   "execution_count": 4,
   "id": "2f246cd5",
   "metadata": {},
   "outputs": [],
   "source": [
    "df1 = df.loc[:,df.columns != \"ALARM\"]\n",
    "df1[\"ABP\"] = df.iloc[:,1:4].mean(axis = 1)\n",
    "df1 = df1.drop([\"ABPmean\",\"ABPdias\",\"ABPsys\"],axis = 1)"
   ]
  },
  {
   "cell_type": "code",
   "execution_count": 5,
   "id": "1a0b85e8",
   "metadata": {},
   "outputs": [
    {
     "data": {
      "text/html": [
       "<div>\n",
       "<style scoped>\n",
       "    .dataframe tbody tr th:only-of-type {\n",
       "        vertical-align: middle;\n",
       "    }\n",
       "\n",
       "    .dataframe tbody tr th {\n",
       "        vertical-align: top;\n",
       "    }\n",
       "\n",
       "    .dataframe thead th {\n",
       "        text-align: right;\n",
       "    }\n",
       "</style>\n",
       "<table border=\"1\" class=\"dataframe\">\n",
       "  <thead>\n",
       "    <tr style=\"text-align: right;\">\n",
       "      <th></th>\n",
       "      <th>RESP</th>\n",
       "      <th>Tblood</th>\n",
       "      <th>SpO2</th>\n",
       "      <th>HR</th>\n",
       "      <th>PULSE</th>\n",
       "      <th>ABP</th>\n",
       "    </tr>\n",
       "  </thead>\n",
       "  <tbody>\n",
       "    <tr>\n",
       "      <th>0</th>\n",
       "      <td>15.0</td>\n",
       "      <td>37.1</td>\n",
       "      <td>100.0</td>\n",
       "      <td>101.0</td>\n",
       "      <td>100.0</td>\n",
       "      <td>93.666667</td>\n",
       "    </tr>\n",
       "    <tr>\n",
       "      <th>1</th>\n",
       "      <td>15.0</td>\n",
       "      <td>37.1</td>\n",
       "      <td>100.0</td>\n",
       "      <td>101.0</td>\n",
       "      <td>101.0</td>\n",
       "      <td>93.666667</td>\n",
       "    </tr>\n",
       "    <tr>\n",
       "      <th>2</th>\n",
       "      <td>15.0</td>\n",
       "      <td>37.1</td>\n",
       "      <td>100.0</td>\n",
       "      <td>101.0</td>\n",
       "      <td>101.0</td>\n",
       "      <td>93.333333</td>\n",
       "    </tr>\n",
       "    <tr>\n",
       "      <th>3</th>\n",
       "      <td>15.0</td>\n",
       "      <td>37.1</td>\n",
       "      <td>100.0</td>\n",
       "      <td>101.0</td>\n",
       "      <td>101.0</td>\n",
       "      <td>93.333333</td>\n",
       "    </tr>\n",
       "    <tr>\n",
       "      <th>4</th>\n",
       "      <td>15.0</td>\n",
       "      <td>37.1</td>\n",
       "      <td>100.0</td>\n",
       "      <td>101.0</td>\n",
       "      <td>101.0</td>\n",
       "      <td>93.666667</td>\n",
       "    </tr>\n",
       "    <tr>\n",
       "      <th>...</th>\n",
       "      <td>...</td>\n",
       "      <td>...</td>\n",
       "      <td>...</td>\n",
       "      <td>...</td>\n",
       "      <td>...</td>\n",
       "      <td>...</td>\n",
       "    </tr>\n",
       "    <tr>\n",
       "      <th>131244</th>\n",
       "      <td>23.0</td>\n",
       "      <td>37.0</td>\n",
       "      <td>98.0</td>\n",
       "      <td>109.0</td>\n",
       "      <td>108.0</td>\n",
       "      <td>114.000000</td>\n",
       "    </tr>\n",
       "    <tr>\n",
       "      <th>131245</th>\n",
       "      <td>23.0</td>\n",
       "      <td>37.0</td>\n",
       "      <td>98.0</td>\n",
       "      <td>109.0</td>\n",
       "      <td>108.0</td>\n",
       "      <td>114.333333</td>\n",
       "    </tr>\n",
       "    <tr>\n",
       "      <th>131246</th>\n",
       "      <td>23.0</td>\n",
       "      <td>37.0</td>\n",
       "      <td>98.0</td>\n",
       "      <td>109.0</td>\n",
       "      <td>108.0</td>\n",
       "      <td>114.333333</td>\n",
       "    </tr>\n",
       "    <tr>\n",
       "      <th>131247</th>\n",
       "      <td>23.0</td>\n",
       "      <td>37.0</td>\n",
       "      <td>98.0</td>\n",
       "      <td>109.0</td>\n",
       "      <td>108.0</td>\n",
       "      <td>115.333333</td>\n",
       "    </tr>\n",
       "    <tr>\n",
       "      <th>131248</th>\n",
       "      <td>23.0</td>\n",
       "      <td>37.0</td>\n",
       "      <td>98.0</td>\n",
       "      <td>109.0</td>\n",
       "      <td>109.0</td>\n",
       "      <td>115.333333</td>\n",
       "    </tr>\n",
       "  </tbody>\n",
       "</table>\n",
       "<p>131249 rows × 6 columns</p>\n",
       "</div>"
      ],
      "text/plain": [
       "        RESP  Tblood   SpO2     HR  PULSE         ABP\n",
       "0       15.0    37.1  100.0  101.0  100.0   93.666667\n",
       "1       15.0    37.1  100.0  101.0  101.0   93.666667\n",
       "2       15.0    37.1  100.0  101.0  101.0   93.333333\n",
       "3       15.0    37.1  100.0  101.0  101.0   93.333333\n",
       "4       15.0    37.1  100.0  101.0  101.0   93.666667\n",
       "...      ...     ...    ...    ...    ...         ...\n",
       "131244  23.0    37.0   98.0  109.0  108.0  114.000000\n",
       "131245  23.0    37.0   98.0  109.0  108.0  114.333333\n",
       "131246  23.0    37.0   98.0  109.0  108.0  114.333333\n",
       "131247  23.0    37.0   98.0  109.0  108.0  115.333333\n",
       "131248  23.0    37.0   98.0  109.0  109.0  115.333333\n",
       "\n",
       "[131249 rows x 6 columns]"
      ]
     },
     "execution_count": 5,
     "metadata": {},
     "output_type": "execute_result"
    }
   ],
   "source": [
    "df1\n"
   ]
  },
  {
   "cell_type": "code",
   "execution_count": 7,
   "id": "de029372",
   "metadata": {},
   "outputs": [],
   "source": [
    "df1 = df1.dropna()"
   ]
  },
  {
   "cell_type": "code",
   "execution_count": 19,
   "id": "c5174315",
   "metadata": {},
   "outputs": [],
   "source": [
    "y_pred = LocalOutlierFactor()\n",
    "y_pred = y_pred.fit_predict(df1.loc[:\"HR\"])"
   ]
  },
  {
   "cell_type": "code",
   "execution_count": 20,
   "id": "19ff356f",
   "metadata": {},
   "outputs": [
    {
     "name": "stdout",
     "output_type": "stream",
     "text": [
      "0\n"
     ]
    }
   ],
   "source": [
    "cou = 0 \n",
    "for i in y_pred:\n",
    "    if i == 0:\n",
    "        cou +=1\n",
    "print(cou)"
   ]
  },
  {
   "cell_type": "code",
   "execution_count": 21,
   "id": "ca8cf725",
   "metadata": {},
   "outputs": [
    {
     "name": "stdout",
     "output_type": "stream",
     "text": [
      "4263\n",
      "0.03248024746855214\n"
     ]
    }
   ],
   "source": [
    "cou = 0\n",
    "for i in df[\"ALARM\"]:\n",
    "    if i == True:\n",
    "        cou+=1\n",
    "print(cou)\n",
    "outlier_fraction = cou/len(df[\"ALARM\"])\n",
    "print(outlier_fraction)"
   ]
  },
  {
   "cell_type": "code",
   "execution_count": 22,
   "id": "6859cd0b",
   "metadata": {},
   "outputs": [],
   "source": [
    "act = []\n",
    "for i in range(len(df[\"ALARM\"])):\n",
    "    if df.loc[i,\"ALARM\"] == True:\n",
    "        act.append(-1)\n",
    "    else :\n",
    "        act.append(1)"
   ]
  },
  {
   "cell_type": "code",
   "execution_count": 29,
   "id": "0a9740bb",
   "metadata": {},
   "outputs": [],
   "source": [
    "i = 0\n",
    "tp =tn =fp =fn = 0\n",
    "\n",
    "for i in range(len(y_pred)):\n",
    "    if act[i] == y_pred[i]:\n",
    "        if act[i] == 1:\n",
    "            tn +=1\n",
    "        else :\n",
    "            tp +=1\n",
    "    else :\n",
    "        if y_pred[i] == -1:\n",
    "            fn += 1\n",
    "        else :\n",
    "            fp += 1"
   ]
  },
  {
   "cell_type": "code",
   "execution_count": 30,
   "id": "6b1b932e",
   "metadata": {},
   "outputs": [
    {
     "name": "stdout",
     "output_type": "stream",
     "text": [
      "186 112347 2521 11500\n"
     ]
    }
   ],
   "source": [
    "print(tp,tn,fp,fn)"
   ]
  },
  {
   "cell_type": "code",
   "execution_count": 31,
   "id": "c4939fea",
   "metadata": {},
   "outputs": [],
   "source": [
    "accuracy = (tp+tn)/(tp+tn+fn+fp)\n",
    "tpr = tp/(tp+fn)\n",
    "far = fp/(fp+tn)"
   ]
  },
  {
   "cell_type": "code",
   "execution_count": 32,
   "id": "170babb6",
   "metadata": {},
   "outputs": [
    {
     "name": "stdout",
     "output_type": "stream",
     "text": [
      "0.8892093493686489 0.015916481259626903 0.021946930389664658\n"
     ]
    }
   ],
   "source": [
    "print(accuracy,tpr,far)"
   ]
  },
  {
   "cell_type": "code",
   "execution_count": null,
   "id": "6076cb46",
   "metadata": {},
   "outputs": [],
   "source": []
  }
 ],
 "metadata": {
  "kernelspec": {
   "display_name": "Python 3 (ipykernel)",
   "language": "python",
   "name": "python3"
  },
  "language_info": {
   "codemirror_mode": {
    "name": "ipython",
    "version": 3
   },
   "file_extension": ".py",
   "mimetype": "text/x-python",
   "name": "python",
   "nbconvert_exporter": "python",
   "pygments_lexer": "ipython3",
   "version": "3.9.12"
  }
 },
 "nbformat": 4,
 "nbformat_minor": 5
}
