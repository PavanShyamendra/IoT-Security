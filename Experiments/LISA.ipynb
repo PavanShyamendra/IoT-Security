{
 "cells": [
  {
   "cell_type": "code",
   "execution_count": 1,
   "id": "9b648b63",
   "metadata": {},
   "outputs": [],
   "source": [
    "import pandas as pd\n",
    "from sklearn.svm import OneClassSVM\n",
    "import matplotlib.pyplot as plt\n",
    "from numpy import where\n",
    "import numpy as np\n",
    "import statistics \n"
   ]
  },
  {
   "cell_type": "code",
   "execution_count": 2,
   "id": "32042e9d",
   "metadata": {},
   "outputs": [
    {
     "name": "stderr",
     "output_type": "stream",
     "text": [
      "C:\\Users\\A2IN\\AppData\\Local\\Temp\\ipykernel_17364\\1419856285.py:1: DtypeWarning: Columns (5,7) have mixed types. Specify dtype option on import or set low_memory=False.\n",
      "  df = pd.read_csv(\"../dataset/DATA_FINAL_221.csv\",dtype = None)\n"
     ]
    }
   ],
   "source": [
    "df = pd.read_csv(\"../dataset/DATA_FINAL_221.csv\",dtype = None)\n",
    "df = df.drop([\"ALARM\"],axis = 1)"
   ]
  },
  {
   "cell_type": "code",
   "execution_count": 3,
   "id": "3e675f5f",
   "metadata": {},
   "outputs": [],
   "source": [
    "df = df.dropna()\n"
   ]
  },
  {
   "cell_type": "code",
   "execution_count": 4,
   "id": "e2aae4a1",
   "metadata": {},
   "outputs": [],
   "source": [
    "df = df.astype(float)"
   ]
  },
  {
   "cell_type": "code",
   "execution_count": 5,
   "id": "7e9f8bc0",
   "metadata": {},
   "outputs": [],
   "source": [
    "df[\"mean\"] = df.iloc[:,1:4].mean(axis = 1)"
   ]
  },
  {
   "cell_type": "code",
   "execution_count": 6,
   "id": "291f1a1f",
   "metadata": {},
   "outputs": [
    {
     "data": {
      "text/html": [
       "<div>\n",
       "<style scoped>\n",
       "    .dataframe tbody tr th:only-of-type {\n",
       "        vertical-align: middle;\n",
       "    }\n",
       "\n",
       "    .dataframe tbody tr th {\n",
       "        vertical-align: top;\n",
       "    }\n",
       "\n",
       "    .dataframe thead th {\n",
       "        text-align: right;\n",
       "    }\n",
       "</style>\n",
       "<table border=\"1\" class=\"dataframe\">\n",
       "  <thead>\n",
       "    <tr style=\"text-align: right;\">\n",
       "      <th></th>\n",
       "      <th>RESP</th>\n",
       "      <th>ABP1</th>\n",
       "      <th>ABP2</th>\n",
       "      <th>ABP3</th>\n",
       "      <th>SPO2</th>\n",
       "      <th>HR</th>\n",
       "      <th>PULSE</th>\n",
       "      <th>mean</th>\n",
       "    </tr>\n",
       "  </thead>\n",
       "  <tbody>\n",
       "    <tr>\n",
       "      <th>0</th>\n",
       "      <td>23.0</td>\n",
       "      <td>118.0</td>\n",
       "      <td>182.0</td>\n",
       "      <td>80.0</td>\n",
       "      <td>99.0</td>\n",
       "      <td>75.0</td>\n",
       "      <td>75.0</td>\n",
       "      <td>126.666667</td>\n",
       "    </tr>\n",
       "    <tr>\n",
       "      <th>1</th>\n",
       "      <td>23.0</td>\n",
       "      <td>118.0</td>\n",
       "      <td>182.0</td>\n",
       "      <td>80.0</td>\n",
       "      <td>99.0</td>\n",
       "      <td>76.0</td>\n",
       "      <td>75.0</td>\n",
       "      <td>126.666667</td>\n",
       "    </tr>\n",
       "    <tr>\n",
       "      <th>2</th>\n",
       "      <td>22.0</td>\n",
       "      <td>118.0</td>\n",
       "      <td>182.0</td>\n",
       "      <td>80.0</td>\n",
       "      <td>99.0</td>\n",
       "      <td>76.0</td>\n",
       "      <td>76.0</td>\n",
       "      <td>126.666667</td>\n",
       "    </tr>\n",
       "    <tr>\n",
       "      <th>3</th>\n",
       "      <td>22.0</td>\n",
       "      <td>118.0</td>\n",
       "      <td>182.0</td>\n",
       "      <td>80.0</td>\n",
       "      <td>99.0</td>\n",
       "      <td>76.0</td>\n",
       "      <td>76.0</td>\n",
       "      <td>126.666667</td>\n",
       "    </tr>\n",
       "    <tr>\n",
       "      <th>4</th>\n",
       "      <td>22.0</td>\n",
       "      <td>118.0</td>\n",
       "      <td>183.0</td>\n",
       "      <td>80.0</td>\n",
       "      <td>99.0</td>\n",
       "      <td>76.0</td>\n",
       "      <td>76.0</td>\n",
       "      <td>127.000000</td>\n",
       "    </tr>\n",
       "    <tr>\n",
       "      <th>...</th>\n",
       "      <td>...</td>\n",
       "      <td>...</td>\n",
       "      <td>...</td>\n",
       "      <td>...</td>\n",
       "      <td>...</td>\n",
       "      <td>...</td>\n",
       "      <td>...</td>\n",
       "      <td>...</td>\n",
       "    </tr>\n",
       "    <tr>\n",
       "      <th>83353</th>\n",
       "      <td>21.0</td>\n",
       "      <td>109.0</td>\n",
       "      <td>185.0</td>\n",
       "      <td>74.0</td>\n",
       "      <td>98.0</td>\n",
       "      <td>82.0</td>\n",
       "      <td>81.0</td>\n",
       "      <td>122.666667</td>\n",
       "    </tr>\n",
       "    <tr>\n",
       "      <th>83354</th>\n",
       "      <td>21.0</td>\n",
       "      <td>109.0</td>\n",
       "      <td>184.0</td>\n",
       "      <td>74.0</td>\n",
       "      <td>98.0</td>\n",
       "      <td>82.0</td>\n",
       "      <td>81.0</td>\n",
       "      <td>122.333333</td>\n",
       "    </tr>\n",
       "    <tr>\n",
       "      <th>83355</th>\n",
       "      <td>21.0</td>\n",
       "      <td>110.0</td>\n",
       "      <td>185.0</td>\n",
       "      <td>74.0</td>\n",
       "      <td>98.0</td>\n",
       "      <td>82.0</td>\n",
       "      <td>81.0</td>\n",
       "      <td>123.000000</td>\n",
       "    </tr>\n",
       "    <tr>\n",
       "      <th>83356</th>\n",
       "      <td>21.0</td>\n",
       "      <td>110.0</td>\n",
       "      <td>186.0</td>\n",
       "      <td>75.0</td>\n",
       "      <td>98.0</td>\n",
       "      <td>82.0</td>\n",
       "      <td>81.0</td>\n",
       "      <td>123.666667</td>\n",
       "    </tr>\n",
       "    <tr>\n",
       "      <th>83357</th>\n",
       "      <td>21.0</td>\n",
       "      <td>110.0</td>\n",
       "      <td>185.0</td>\n",
       "      <td>74.0</td>\n",
       "      <td>98.0</td>\n",
       "      <td>81.0</td>\n",
       "      <td>81.0</td>\n",
       "      <td>123.000000</td>\n",
       "    </tr>\n",
       "  </tbody>\n",
       "</table>\n",
       "<p>83188 rows × 8 columns</p>\n",
       "</div>"
      ],
      "text/plain": [
       "       RESP   ABP1   ABP2  ABP3  SPO2    HR  PULSE        mean\n",
       "0      23.0  118.0  182.0  80.0  99.0  75.0   75.0  126.666667\n",
       "1      23.0  118.0  182.0  80.0  99.0  76.0   75.0  126.666667\n",
       "2      22.0  118.0  182.0  80.0  99.0  76.0   76.0  126.666667\n",
       "3      22.0  118.0  182.0  80.0  99.0  76.0   76.0  126.666667\n",
       "4      22.0  118.0  183.0  80.0  99.0  76.0   76.0  127.000000\n",
       "...     ...    ...    ...   ...   ...   ...    ...         ...\n",
       "83353  21.0  109.0  185.0  74.0  98.0  82.0   81.0  122.666667\n",
       "83354  21.0  109.0  184.0  74.0  98.0  82.0   81.0  122.333333\n",
       "83355  21.0  110.0  185.0  74.0  98.0  82.0   81.0  123.000000\n",
       "83356  21.0  110.0  186.0  75.0  98.0  82.0   81.0  123.666667\n",
       "83357  21.0  110.0  185.0  74.0  98.0  81.0   81.0  123.000000\n",
       "\n",
       "[83188 rows x 8 columns]"
      ]
     },
     "execution_count": 6,
     "metadata": {},
     "output_type": "execute_result"
    }
   ],
   "source": [
    "df"
   ]
  },
  {
   "cell_type": "code",
   "execution_count": 7,
   "id": "652211db",
   "metadata": {},
   "outputs": [],
   "source": [
    "df = df.drop([\"ABP1\",\"ABP2\",\"ABP3\"],axis = 1)"
   ]
  },
  {
   "cell_type": "code",
   "execution_count": 8,
   "id": "494016c7",
   "metadata": {},
   "outputs": [
    {
     "data": {
      "text/html": [
       "<div>\n",
       "<style scoped>\n",
       "    .dataframe tbody tr th:only-of-type {\n",
       "        vertical-align: middle;\n",
       "    }\n",
       "\n",
       "    .dataframe tbody tr th {\n",
       "        vertical-align: top;\n",
       "    }\n",
       "\n",
       "    .dataframe thead th {\n",
       "        text-align: right;\n",
       "    }\n",
       "</style>\n",
       "<table border=\"1\" class=\"dataframe\">\n",
       "  <thead>\n",
       "    <tr style=\"text-align: right;\">\n",
       "      <th></th>\n",
       "      <th>RESP</th>\n",
       "      <th>SPO2</th>\n",
       "      <th>HR</th>\n",
       "      <th>PULSE</th>\n",
       "      <th>mean</th>\n",
       "    </tr>\n",
       "  </thead>\n",
       "  <tbody>\n",
       "    <tr>\n",
       "      <th>0</th>\n",
       "      <td>23.0</td>\n",
       "      <td>99.0</td>\n",
       "      <td>75.0</td>\n",
       "      <td>75.0</td>\n",
       "      <td>126.666667</td>\n",
       "    </tr>\n",
       "    <tr>\n",
       "      <th>1</th>\n",
       "      <td>23.0</td>\n",
       "      <td>99.0</td>\n",
       "      <td>76.0</td>\n",
       "      <td>75.0</td>\n",
       "      <td>126.666667</td>\n",
       "    </tr>\n",
       "    <tr>\n",
       "      <th>2</th>\n",
       "      <td>22.0</td>\n",
       "      <td>99.0</td>\n",
       "      <td>76.0</td>\n",
       "      <td>76.0</td>\n",
       "      <td>126.666667</td>\n",
       "    </tr>\n",
       "    <tr>\n",
       "      <th>3</th>\n",
       "      <td>22.0</td>\n",
       "      <td>99.0</td>\n",
       "      <td>76.0</td>\n",
       "      <td>76.0</td>\n",
       "      <td>126.666667</td>\n",
       "    </tr>\n",
       "    <tr>\n",
       "      <th>4</th>\n",
       "      <td>22.0</td>\n",
       "      <td>99.0</td>\n",
       "      <td>76.0</td>\n",
       "      <td>76.0</td>\n",
       "      <td>127.000000</td>\n",
       "    </tr>\n",
       "    <tr>\n",
       "      <th>...</th>\n",
       "      <td>...</td>\n",
       "      <td>...</td>\n",
       "      <td>...</td>\n",
       "      <td>...</td>\n",
       "      <td>...</td>\n",
       "    </tr>\n",
       "    <tr>\n",
       "      <th>83353</th>\n",
       "      <td>21.0</td>\n",
       "      <td>98.0</td>\n",
       "      <td>82.0</td>\n",
       "      <td>81.0</td>\n",
       "      <td>122.666667</td>\n",
       "    </tr>\n",
       "    <tr>\n",
       "      <th>83354</th>\n",
       "      <td>21.0</td>\n",
       "      <td>98.0</td>\n",
       "      <td>82.0</td>\n",
       "      <td>81.0</td>\n",
       "      <td>122.333333</td>\n",
       "    </tr>\n",
       "    <tr>\n",
       "      <th>83355</th>\n",
       "      <td>21.0</td>\n",
       "      <td>98.0</td>\n",
       "      <td>82.0</td>\n",
       "      <td>81.0</td>\n",
       "      <td>123.000000</td>\n",
       "    </tr>\n",
       "    <tr>\n",
       "      <th>83356</th>\n",
       "      <td>21.0</td>\n",
       "      <td>98.0</td>\n",
       "      <td>82.0</td>\n",
       "      <td>81.0</td>\n",
       "      <td>123.666667</td>\n",
       "    </tr>\n",
       "    <tr>\n",
       "      <th>83357</th>\n",
       "      <td>21.0</td>\n",
       "      <td>98.0</td>\n",
       "      <td>81.0</td>\n",
       "      <td>81.0</td>\n",
       "      <td>123.000000</td>\n",
       "    </tr>\n",
       "  </tbody>\n",
       "</table>\n",
       "<p>83188 rows × 5 columns</p>\n",
       "</div>"
      ],
      "text/plain": [
       "       RESP  SPO2    HR  PULSE        mean\n",
       "0      23.0  99.0  75.0   75.0  126.666667\n",
       "1      23.0  99.0  76.0   75.0  126.666667\n",
       "2      22.0  99.0  76.0   76.0  126.666667\n",
       "3      22.0  99.0  76.0   76.0  126.666667\n",
       "4      22.0  99.0  76.0   76.0  127.000000\n",
       "...     ...   ...   ...    ...         ...\n",
       "83353  21.0  98.0  82.0   81.0  122.666667\n",
       "83354  21.0  98.0  82.0   81.0  122.333333\n",
       "83355  21.0  98.0  82.0   81.0  123.000000\n",
       "83356  21.0  98.0  82.0   81.0  123.666667\n",
       "83357  21.0  98.0  81.0   81.0  123.000000\n",
       "\n",
       "[83188 rows x 5 columns]"
      ]
     },
     "execution_count": 8,
     "metadata": {},
     "output_type": "execute_result"
    }
   ],
   "source": [
    "df"
   ]
  },
  {
   "cell_type": "code",
   "execution_count": 9,
   "id": "ac7b1ca4",
   "metadata": {},
   "outputs": [],
   "source": [
    "def lisa(k,cur):\n",
    "    var = 0\n",
    "    mean = cur.iloc[-1].mean(axis = 0)\n",
    "    std = statistics.stdev(cur.iloc[-1])\n",
    "    for i in cur:\n",
    "        corr = 0\n",
    "        z = 0\n",
    "        if i != k:\n",
    "            corr = cur[k].corr(cur[i])\n",
    "            z =  cur[i].iat[-1]\n",
    "            z = z - mean\n",
    "            if std != 0 :\n",
    "                z /= std\n",
    "            var += (z*corr)\n",
    "    z =  cur[k].iat[-1]\n",
    "    z = z - mean\n",
    "    if std != 0 :\n",
    "        z /= std\n",
    "    var = (var*z)\n",
    "    \n",
    "    return var"
   ]
  },
  {
   "cell_type": "code",
   "execution_count": 10,
   "id": "6076cb46",
   "metadata": {},
   "outputs": [],
   "source": [
    "a = len(df)\n",
    "w = 100\n",
    "thres = 0.75\n",
    "y_pred = np.zeros(w-1)\n",
    "for i in range(a-w+1):\n",
    "    cur = df.iloc[i:i+w]\n",
    "    cou = np.zeros(0)\n",
    "    for k in cur:\n",
    "        l = lisa(k,cur)\n",
    "        cou = np.append(cou, l)\n",
    "    y_pred = np.append(y_pred,cou)"
   ]
  },
  {
   "cell_type": "code",
   "execution_count": 11,
   "id": "42a7f394",
   "metadata": {},
   "outputs": [
    {
     "name": "stdout",
     "output_type": "stream",
     "text": [
      "[ 0.          0.          0.         ...  0.00133431  0.00298618\n",
      " -0.12290197]\n"
     ]
    }
   ],
   "source": [
    "print(y_pred)\n"
   ]
  },
  {
   "cell_type": "code",
   "execution_count": 12,
   "id": "dc72c823",
   "metadata": {},
   "outputs": [
    {
     "name": "stderr",
     "output_type": "stream",
     "text": [
      "C:\\Users\\A2IN\\AppData\\Local\\Temp\\ipykernel_17364\\2804527451.py:1: DtypeWarning: Columns (5,7) have mixed types. Specify dtype option on import or set low_memory=False.\n",
      "  df1 = pd.read_csv(\"../dataset/DATA_FINAL_221.csv\")\n"
     ]
    }
   ],
   "source": [
    "df1 = pd.read_csv(\"../dataset/DATA_FINAL_221.csv\")\n"
   ]
  },
  {
   "cell_type": "code",
   "execution_count": 13,
   "id": "967b5971",
   "metadata": {},
   "outputs": [
    {
     "data": {
      "text/plain": [
       "415544"
      ]
     },
     "execution_count": 13,
     "metadata": {},
     "output_type": "execute_result"
    }
   ],
   "source": [
    "len(y_pred)"
   ]
  },
  {
   "cell_type": "code",
   "execution_count": 14,
   "id": "b51887bf",
   "metadata": {},
   "outputs": [],
   "source": [
    "df1 = df1.dropna()"
   ]
  },
  {
   "cell_type": "code",
   "execution_count": 15,
   "id": "47a4cbf8",
   "metadata": {},
   "outputs": [],
   "source": [
    "act = []\n",
    "for i in df1[\"ALARM\"]:\n",
    "    if i == False:\n",
    "        act.append(0)\n",
    "    else :\n",
    "        act.append(1)"
   ]
  },
  {
   "cell_type": "code",
   "execution_count": 16,
   "id": "4e0efb41",
   "metadata": {},
   "outputs": [
    {
     "data": {
      "text/plain": [
       "83188"
      ]
     },
     "execution_count": 16,
     "metadata": {},
     "output_type": "execute_result"
    }
   ],
   "source": [
    "len(act)"
   ]
  },
  {
   "cell_type": "code",
   "execution_count": 17,
   "id": "66fafe0c",
   "metadata": {},
   "outputs": [
    {
     "name": "stdout",
     "output_type": "stream",
     "text": [
      "415544 83188\n"
     ]
    }
   ],
   "source": [
    "print(len(y_pred),len(act))"
   ]
  },
  {
   "cell_type": "code",
   "execution_count": 18,
   "id": "c3b740cb",
   "metadata": {},
   "outputs": [
    {
     "ename": "IndexError",
     "evalue": "list index out of range",
     "output_type": "error",
     "traceback": [
      "\u001b[1;31m---------------------------------------------------------------------------\u001b[0m",
      "\u001b[1;31mIndexError\u001b[0m                                Traceback (most recent call last)",
      "Input \u001b[1;32mIn [18]\u001b[0m, in \u001b[0;36m<cell line: 4>\u001b[1;34m()\u001b[0m\n\u001b[0;32m      2\u001b[0m tp \u001b[38;5;241m=\u001b[39mtn \u001b[38;5;241m=\u001b[39mfp \u001b[38;5;241m=\u001b[39mfn \u001b[38;5;241m=\u001b[39m \u001b[38;5;241m0\u001b[39m\n\u001b[0;32m      4\u001b[0m \u001b[38;5;28;01mfor\u001b[39;00m i \u001b[38;5;129;01min\u001b[39;00m \u001b[38;5;28mrange\u001b[39m(\u001b[38;5;28mlen\u001b[39m(y_pred)):\n\u001b[1;32m----> 5\u001b[0m     \u001b[38;5;28;01mif\u001b[39;00m \u001b[43mact\u001b[49m\u001b[43m[\u001b[49m\u001b[43mi\u001b[49m\u001b[43m]\u001b[49m \u001b[38;5;241m==\u001b[39m y_pred[i]:\n\u001b[0;32m      6\u001b[0m         \u001b[38;5;28;01mif\u001b[39;00m act[i] \u001b[38;5;241m==\u001b[39m \u001b[38;5;241m0\u001b[39m:\n\u001b[0;32m      7\u001b[0m             tn \u001b[38;5;241m+\u001b[39m\u001b[38;5;241m=\u001b[39m\u001b[38;5;241m1\u001b[39m\n",
      "\u001b[1;31mIndexError\u001b[0m: list index out of range"
     ]
    }
   ],
   "source": [
    "i = 0\n",
    "tp =tn =fp =fn = 0\n",
    "\n",
    "for i in range(len(y_pred)):\n",
    "    if act[i] == y_pred[i]:\n",
    "        if act[i] == 0:\n",
    "            tn +=1\n",
    "        else :\n",
    "            tp +=1\n",
    "    else :\n",
    "        if y_pred[i] == 0:\n",
    "            fn += 1\n",
    "        else :\n",
    "            fp += 1"
   ]
  },
  {
   "cell_type": "code",
   "execution_count": null,
   "id": "135e12bf",
   "metadata": {},
   "outputs": [],
   "source": [
    "tral = 0\n",
    "faal = 0\n",
    "\n",
    "for i in range(len(act)):\n",
    "    if act[i] == 0:\n",
    "        tral +=1\n",
    "    else :\n",
    "        faal +=1\n",
    "print(tral, faal)"
   ]
  },
  {
   "cell_type": "code",
   "execution_count": 91,
   "id": "d6b44860",
   "metadata": {},
   "outputs": [
    {
     "name": "stdout",
     "output_type": "stream",
     "text": [
      "82989 199\n"
     ]
    }
   ],
   "source": [
    "tral = 0\n",
    "faal = 0\n",
    "\n",
    "for i in range(len(y_pred)):\n",
    "    if y_pred[i] == 0:\n",
    "        tral +=1\n",
    "    else :\n",
    "        faal +=1\n",
    "print(tral, faal)"
   ]
  },
  {
   "cell_type": "code",
   "execution_count": 92,
   "id": "a300f8e0",
   "metadata": {},
   "outputs": [
    {
     "name": "stdout",
     "output_type": "stream",
     "text": [
      "5 80913 194 2076\n"
     ]
    }
   ],
   "source": [
    "print(tp,tn,fp,fn)"
   ]
  },
  {
   "cell_type": "code",
   "execution_count": 93,
   "id": "42447bb1",
   "metadata": {},
   "outputs": [],
   "source": [
    "accuracy = (tp+tn)/(tp+tn+fn+fp)\n",
    "tpr = tp/(tp+fn)\n",
    "far = fp/(fp+tn)"
   ]
  },
  {
   "cell_type": "code",
   "execution_count": 94,
   "id": "b28d79b5",
   "metadata": {
    "scrolled": true
   },
   "outputs": [
    {
     "name": "stdout",
     "output_type": "stream",
     "text": [
      "0.972712410443814 0.002402691013935608 0.0023919020553096527\n"
     ]
    }
   ],
   "source": [
    "print(accuracy,tpr,far)"
   ]
  },
  {
   "cell_type": "markdown",
   "id": "d5e0024c",
   "metadata": {},
   "source": [
    "0.557625274183401 0.5557844013523491 0.4388590653835688 ----- delta = 0.1 w = 100---------------------\n",
    "0.5842359422557004 0.6207593362608324 0.48551567177102145 --- delta = 0.4    w = 100-------------------------\n",
    "0.5243151791331554 0.47197502558323295 0.3757266902505999  --- delta = 0.4   w= 50-----------------\n",
    "0.5043444253626023 0.41907278591691605 0.3328055809811246   --- delta = 0.1   w= 50-----------------\n",
    "0.6281733009130945 0.7334421430329409 0.5728669321920689   --- delta = 0.4   w= 200-----------------\n",
    "0.6427964156365306 0.7802432673998367 0.6196967073200901  --- delta = 0.4   w= 300-----------------\n",
    "0.648917719474248 0.806318734698636 0.6516834475422408   --- delta = 0.4   w= 400-----------------\n",
    "\n"
   ]
  },
  {
   "cell_type": "markdown",
   "id": "057687d5",
   "metadata": {},
   "source": [
    "0.15208924364090975 0.9702066314271984 0.8689015744633632  ---- delta = 0.4 w = 400 cou = 1 ---------\n",
    "different technique at threshold, instead of lisa < threshold, it is made into lisa > threshold and threshold is significantly increased, now #of cous also increased to 3 instead of 1 for the older method"
   ]
  },
  {
   "cell_type": "code",
   "execution_count": null,
   "id": "cbb2cb15",
   "metadata": {},
   "outputs": [],
   "source": []
  }
 ],
 "metadata": {
  "kernelspec": {
   "display_name": "Python 3 (ipykernel)",
   "language": "python",
   "name": "python3"
  },
  "language_info": {
   "codemirror_mode": {
    "name": "ipython",
    "version": 3
   },
   "file_extension": ".py",
   "mimetype": "text/x-python",
   "name": "python",
   "nbconvert_exporter": "python",
   "pygments_lexer": "ipython3",
   "version": "3.9.12"
  }
 },
 "nbformat": 4,
 "nbformat_minor": 5
}
