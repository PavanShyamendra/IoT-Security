{
 "cells": [
  {
   "cell_type": "code",
   "execution_count": 50,
   "id": "7af6e7a6",
   "metadata": {},
   "outputs": [],
   "source": [
    "# import libraries\n",
    "import pandas as pd\n",
    "from sklearn.svm import OneClassSVM\n",
    "import matplotlib.pyplot as plt\n",
    "from numpy import where\n",
    "# from sklearn.mixture import GMM"
   ]
  },
  {
   "cell_type": "code",
   "execution_count": 90,
   "id": "ad6223d6",
   "metadata": {},
   "outputs": [],
   "source": [
    "df = pd.read_csv(\"../dataset/DATA_FINAL.csv\", low_memory = False)\n"
   ]
  },
  {
   "cell_type": "code",
   "execution_count": 91,
   "id": "2cf7928b",
   "metadata": {},
   "outputs": [
    {
     "data": {
      "text/html": [
       "<div>\n",
       "<style scoped>\n",
       "    .dataframe tbody tr th:only-of-type {\n",
       "        vertical-align: middle;\n",
       "    }\n",
       "\n",
       "    .dataframe tbody tr th {\n",
       "        vertical-align: top;\n",
       "    }\n",
       "\n",
       "    .dataframe thead th {\n",
       "        text-align: right;\n",
       "    }\n",
       "</style>\n",
       "<table border=\"1\" class=\"dataframe\">\n",
       "  <thead>\n",
       "    <tr style=\"text-align: right;\">\n",
       "      <th></th>\n",
       "      <th>RESP</th>\n",
       "      <th>ABPmean</th>\n",
       "      <th>ABPsys</th>\n",
       "      <th>ABPdias</th>\n",
       "      <th>Tblood</th>\n",
       "      <th>SpO2</th>\n",
       "      <th>HR</th>\n",
       "      <th>PULSE</th>\n",
       "      <th>ALARM</th>\n",
       "    </tr>\n",
       "  </thead>\n",
       "  <tbody>\n",
       "    <tr>\n",
       "      <th>0</th>\n",
       "      <td>15.0</td>\n",
       "      <td>89.0</td>\n",
       "      <td>114.0</td>\n",
       "      <td>78.0</td>\n",
       "      <td>37.1</td>\n",
       "      <td>100.0</td>\n",
       "      <td>101.0</td>\n",
       "      <td>100.0</td>\n",
       "      <td>False</td>\n",
       "    </tr>\n",
       "    <tr>\n",
       "      <th>1</th>\n",
       "      <td>15.0</td>\n",
       "      <td>89.0</td>\n",
       "      <td>114.0</td>\n",
       "      <td>78.0</td>\n",
       "      <td>37.1</td>\n",
       "      <td>100.0</td>\n",
       "      <td>101.0</td>\n",
       "      <td>101.0</td>\n",
       "      <td>False</td>\n",
       "    </tr>\n",
       "    <tr>\n",
       "      <th>2</th>\n",
       "      <td>15.0</td>\n",
       "      <td>89.0</td>\n",
       "      <td>113.0</td>\n",
       "      <td>78.0</td>\n",
       "      <td>37.1</td>\n",
       "      <td>100.0</td>\n",
       "      <td>101.0</td>\n",
       "      <td>101.0</td>\n",
       "      <td>False</td>\n",
       "    </tr>\n",
       "    <tr>\n",
       "      <th>3</th>\n",
       "      <td>15.0</td>\n",
       "      <td>89.0</td>\n",
       "      <td>113.0</td>\n",
       "      <td>78.0</td>\n",
       "      <td>37.1</td>\n",
       "      <td>100.0</td>\n",
       "      <td>101.0</td>\n",
       "      <td>101.0</td>\n",
       "      <td>False</td>\n",
       "    </tr>\n",
       "    <tr>\n",
       "      <th>4</th>\n",
       "      <td>15.0</td>\n",
       "      <td>89.0</td>\n",
       "      <td>114.0</td>\n",
       "      <td>78.0</td>\n",
       "      <td>37.1</td>\n",
       "      <td>100.0</td>\n",
       "      <td>101.0</td>\n",
       "      <td>101.0</td>\n",
       "      <td>False</td>\n",
       "    </tr>\n",
       "    <tr>\n",
       "      <th>...</th>\n",
       "      <td>...</td>\n",
       "      <td>...</td>\n",
       "      <td>...</td>\n",
       "      <td>...</td>\n",
       "      <td>...</td>\n",
       "      <td>...</td>\n",
       "      <td>...</td>\n",
       "      <td>...</td>\n",
       "      <td>...</td>\n",
       "    </tr>\n",
       "    <tr>\n",
       "      <th>131244</th>\n",
       "      <td>23.0</td>\n",
       "      <td>111.0</td>\n",
       "      <td>132.0</td>\n",
       "      <td>99.0</td>\n",
       "      <td>37.0</td>\n",
       "      <td>98.0</td>\n",
       "      <td>109.0</td>\n",
       "      <td>108.0</td>\n",
       "      <td>False</td>\n",
       "    </tr>\n",
       "    <tr>\n",
       "      <th>131245</th>\n",
       "      <td>23.0</td>\n",
       "      <td>111.0</td>\n",
       "      <td>132.0</td>\n",
       "      <td>100.0</td>\n",
       "      <td>37.0</td>\n",
       "      <td>98.0</td>\n",
       "      <td>109.0</td>\n",
       "      <td>108.0</td>\n",
       "      <td>False</td>\n",
       "    </tr>\n",
       "    <tr>\n",
       "      <th>131246</th>\n",
       "      <td>23.0</td>\n",
       "      <td>111.0</td>\n",
       "      <td>132.0</td>\n",
       "      <td>100.0</td>\n",
       "      <td>37.0</td>\n",
       "      <td>98.0</td>\n",
       "      <td>109.0</td>\n",
       "      <td>108.0</td>\n",
       "      <td>False</td>\n",
       "    </tr>\n",
       "    <tr>\n",
       "      <th>131247</th>\n",
       "      <td>23.0</td>\n",
       "      <td>112.0</td>\n",
       "      <td>133.0</td>\n",
       "      <td>101.0</td>\n",
       "      <td>37.0</td>\n",
       "      <td>98.0</td>\n",
       "      <td>109.0</td>\n",
       "      <td>108.0</td>\n",
       "      <td>False</td>\n",
       "    </tr>\n",
       "    <tr>\n",
       "      <th>131248</th>\n",
       "      <td>23.0</td>\n",
       "      <td>112.0</td>\n",
       "      <td>133.0</td>\n",
       "      <td>101.0</td>\n",
       "      <td>37.0</td>\n",
       "      <td>98.0</td>\n",
       "      <td>109.0</td>\n",
       "      <td>109.0</td>\n",
       "      <td>False</td>\n",
       "    </tr>\n",
       "  </tbody>\n",
       "</table>\n",
       "<p>131249 rows × 9 columns</p>\n",
       "</div>"
      ],
      "text/plain": [
       "        RESP  ABPmean  ABPsys  ABPdias  Tblood   SpO2     HR  PULSE  ALARM\n",
       "0       15.0     89.0   114.0     78.0    37.1  100.0  101.0  100.0  False\n",
       "1       15.0     89.0   114.0     78.0    37.1  100.0  101.0  101.0  False\n",
       "2       15.0     89.0   113.0     78.0    37.1  100.0  101.0  101.0  False\n",
       "3       15.0     89.0   113.0     78.0    37.1  100.0  101.0  101.0  False\n",
       "4       15.0     89.0   114.0     78.0    37.1  100.0  101.0  101.0  False\n",
       "...      ...      ...     ...      ...     ...    ...    ...    ...    ...\n",
       "131244  23.0    111.0   132.0     99.0    37.0   98.0  109.0  108.0  False\n",
       "131245  23.0    111.0   132.0    100.0    37.0   98.0  109.0  108.0  False\n",
       "131246  23.0    111.0   132.0    100.0    37.0   98.0  109.0  108.0  False\n",
       "131247  23.0    112.0   133.0    101.0    37.0   98.0  109.0  108.0  False\n",
       "131248  23.0    112.0   133.0    101.0    37.0   98.0  109.0  109.0  False\n",
       "\n",
       "[131249 rows x 9 columns]"
      ]
     },
     "execution_count": 91,
     "metadata": {},
     "output_type": "execute_result"
    }
   ],
   "source": [
    "df"
   ]
  },
  {
   "cell_type": "code",
   "execution_count": 92,
   "id": "a3e55826",
   "metadata": {},
   "outputs": [],
   "source": []
  },
  {
   "cell_type": "code",
   "execution_count": null,
   "id": "8d5e3937",
   "metadata": {},
   "outputs": [],
   "source": [
    "for col in df:\n",
    "    if col == \"ALARM\":\n",
    "        df[col].fillna(value = \"FALSE\",inplace = True)\n",
    "    else :\n",
    "        df[col].fillna(int(df[col].mean()), inplace = True)"
   ]
  },
  {
   "cell_type": "code",
   "execution_count": null,
   "id": "4ed0bec1",
   "metadata": {},
   "outputs": [],
   "source": [
    "df.loc[11111]"
   ]
  },
  {
   "cell_type": "code",
   "execution_count": null,
   "id": "3839cca8",
   "metadata": {},
   "outputs": [],
   "source": [
    "from sklearn.mixture import GaussianMixture"
   ]
  },
  {
   "cell_type": "code",
   "execution_count": null,
   "id": "dc58e44b",
   "metadata": {},
   "outputs": [],
   "source": [
    "df"
   ]
  },
  {
   "cell_type": "code",
   "execution_count": null,
   "id": "f6e36e74",
   "metadata": {},
   "outputs": [],
   "source": [
    "df1 = df.loc[:,df.columns != \"ALARM\"]"
   ]
  },
  {
   "cell_type": "code",
   "execution_count": null,
   "id": "ccb7c7ba",
   "metadata": {},
   "outputs": [],
   "source": [
    "df1 = df1[[\"SpO2\",\"Tblood\",\"PULSE\"]]"
   ]
  },
  {
   "cell_type": "code",
   "execution_count": null,
   "id": "c38df08e",
   "metadata": {},
   "outputs": [],
   "source": [
    "df1"
   ]
  },
  {
   "cell_type": "code",
   "execution_count": null,
   "id": "1b16a665",
   "metadata": {},
   "outputs": [],
   "source": [
    "exp = GaussianMixture()\n",
    "y_pred = exp.fit_predict(df1)"
   ]
  },
  {
   "cell_type": "code",
   "execution_count": null,
   "id": "d36cd743",
   "metadata": {},
   "outputs": [],
   "source": [
    "y_actual = df.loc[:,df.columns == \"ALARM\"]"
   ]
  },
  {
   "cell_type": "code",
   "execution_count": null,
   "id": "2079b277",
   "metadata": {},
   "outputs": [],
   "source": [
    "score = exp.score_samples(df1)\n",
    "\n",
    "df['score'] = score\n",
    "\n"
   ]
  },
  {
   "cell_type": "code",
   "execution_count": null,
   "id": "1c1d1eaf",
   "metadata": {},
   "outputs": [],
   "source": [
    "df['score']"
   ]
  },
  {
   "cell_type": "code",
   "execution_count": null,
   "id": "21b8a155",
   "metadata": {},
   "outputs": [],
   "source": [
    "import numpy as np"
   ]
  },
  {
   "cell_type": "code",
   "execution_count": null,
   "id": "9ae7784a",
   "metadata": {},
   "outputs": [],
   "source": [
    "pct_threshold = np.percentile(score, 4)\n",
    "df['anomaly_gmm_pct'] = df['score'].apply(lambda x: 1 if x < pct_threshold else 0)\n"
   ]
  },
  {
   "cell_type": "code",
   "execution_count": null,
   "id": "7c68dc6b",
   "metadata": {},
   "outputs": [],
   "source": [
    "df['anomaly_gmm_pct']"
   ]
  },
  {
   "cell_type": "code",
   "execution_count": null,
   "id": "c44194b8",
   "metadata": {},
   "outputs": [],
   "source": [
    "y_pred = df['anomaly_gmm_pct']"
   ]
  },
  {
   "cell_type": "code",
   "execution_count": null,
   "id": "ed2b760d",
   "metadata": {},
   "outputs": [],
   "source": [
    "print(len(y_pred))"
   ]
  },
  {
   "cell_type": "code",
   "execution_count": null,
   "id": "d141a1ad",
   "metadata": {},
   "outputs": [],
   "source": [
    "print()"
   ]
  },
  {
   "cell_type": "code",
   "execution_count": null,
   "id": "0441b61c",
   "metadata": {},
   "outputs": [],
   "source": [
    "act = []\n",
    "a = df.loc[1,\"ALARM\"]"
   ]
  },
  {
   "cell_type": "code",
   "execution_count": null,
   "id": "dc10b3f2",
   "metadata": {},
   "outputs": [],
   "source": [
    "for i in range(len(df[\"ALARM\"])):\n",
    "    if df.loc[i,\"ALARM\"] == False:\n",
    "        act.append(0)\n",
    "    else :\n",
    "        act.append(1)"
   ]
  },
  {
   "cell_type": "code",
   "execution_count": null,
   "id": "eb3e331d",
   "metadata": {},
   "outputs": [],
   "source": [
    "cou =0 \n",
    "for i in act:\n",
    "    if i!= 0:\n",
    "        cou+=1\n",
    "print(cou)"
   ]
  },
  {
   "cell_type": "code",
   "execution_count": null,
   "id": "d0d6aafd",
   "metadata": {},
   "outputs": [],
   "source": [
    "print(len(act))"
   ]
  },
  {
   "cell_type": "code",
   "execution_count": null,
   "id": "eaf98ef9",
   "metadata": {},
   "outputs": [],
   "source": [
    "i = 0\n",
    "tp =tn =fp =fn = 0\n",
    "\n",
    "for i in range(len(y_pred)):\n",
    "    if act[i] == y_pred[i]:\n",
    "        if act[i] == 0:\n",
    "            tn +=1\n",
    "        else :\n",
    "            tp +=1\n",
    "    else :\n",
    "        if y_pred[i] == 0:\n",
    "            fn += 1\n",
    "        else :\n",
    "            fp += 1"
   ]
  },
  {
   "cell_type": "code",
   "execution_count": null,
   "id": "57ebd13b",
   "metadata": {},
   "outputs": [],
   "source": [
    "print(tp,tn,fp,fn)"
   ]
  },
  {
   "cell_type": "code",
   "execution_count": null,
   "id": "39f00e9c",
   "metadata": {},
   "outputs": [],
   "source": [
    "accuracy = (tp+tn)/(tp+tn+fn+fp)\n",
    "tpr = tp/(tp+fn)\n",
    "far = fp/(fp+tn)"
   ]
  },
  {
   "cell_type": "code",
   "execution_count": null,
   "id": "757319b2",
   "metadata": {},
   "outputs": [],
   "source": [
    "print(accuracy,tpr,far)"
   ]
  },
  {
   "cell_type": "code",
   "execution_count": null,
   "id": "85b83b72",
   "metadata": {},
   "outputs": [],
   "source": [
    "y_pred = pd.DataFrame(y_pred,columns = [\"predict\"])\n",
    "final_op = pd.concat([df,y_pred],axis = 1)"
   ]
  },
  {
   "cell_type": "code",
   "execution_count": null,
   "id": "e485248f",
   "metadata": {},
   "outputs": [],
   "source": [
    "df[\"A\"] = \" \"\n",
    "for i in range(len(df[\"ALARM\"])):\n",
    "    if df.loc[i,\"ALARM\"] == False:\n",
    "        df.loc[i,\"A\"] = 1\n",
    "    else :\n",
    "        df.loc[i,\"A\"] = 0 "
   ]
  },
  {
   "cell_type": "code",
   "execution_count": 95,
   "id": "ecab52e8",
   "metadata": {},
   "outputs": [
    {
     "data": {
      "text/html": [
       "<div>\n",
       "<style scoped>\n",
       "    .dataframe tbody tr th:only-of-type {\n",
       "        vertical-align: middle;\n",
       "    }\n",
       "\n",
       "    .dataframe tbody tr th {\n",
       "        vertical-align: top;\n",
       "    }\n",
       "\n",
       "    .dataframe thead th {\n",
       "        text-align: right;\n",
       "    }\n",
       "</style>\n",
       "<table border=\"1\" class=\"dataframe\">\n",
       "  <thead>\n",
       "    <tr style=\"text-align: right;\">\n",
       "      <th></th>\n",
       "      <th>RESP</th>\n",
       "      <th>ABPmean</th>\n",
       "      <th>ABPsys</th>\n",
       "      <th>ABPdias</th>\n",
       "      <th>Tblood</th>\n",
       "      <th>SpO2</th>\n",
       "      <th>HR</th>\n",
       "      <th>PULSE</th>\n",
       "      <th>ALARM</th>\n",
       "      <th>A</th>\n",
       "    </tr>\n",
       "  </thead>\n",
       "  <tbody>\n",
       "    <tr>\n",
       "      <th>0</th>\n",
       "      <td>15.0</td>\n",
       "      <td>89.0</td>\n",
       "      <td>114.0</td>\n",
       "      <td>78.0</td>\n",
       "      <td>37.1</td>\n",
       "      <td>100.0</td>\n",
       "      <td>101.0</td>\n",
       "      <td>100.0</td>\n",
       "      <td>False</td>\n",
       "      <td>0</td>\n",
       "    </tr>\n",
       "    <tr>\n",
       "      <th>1</th>\n",
       "      <td>15.0</td>\n",
       "      <td>89.0</td>\n",
       "      <td>114.0</td>\n",
       "      <td>78.0</td>\n",
       "      <td>37.1</td>\n",
       "      <td>100.0</td>\n",
       "      <td>101.0</td>\n",
       "      <td>101.0</td>\n",
       "      <td>False</td>\n",
       "      <td>0</td>\n",
       "    </tr>\n",
       "    <tr>\n",
       "      <th>2</th>\n",
       "      <td>15.0</td>\n",
       "      <td>89.0</td>\n",
       "      <td>113.0</td>\n",
       "      <td>78.0</td>\n",
       "      <td>37.1</td>\n",
       "      <td>100.0</td>\n",
       "      <td>101.0</td>\n",
       "      <td>101.0</td>\n",
       "      <td>False</td>\n",
       "      <td>0</td>\n",
       "    </tr>\n",
       "    <tr>\n",
       "      <th>3</th>\n",
       "      <td>15.0</td>\n",
       "      <td>89.0</td>\n",
       "      <td>113.0</td>\n",
       "      <td>78.0</td>\n",
       "      <td>37.1</td>\n",
       "      <td>100.0</td>\n",
       "      <td>101.0</td>\n",
       "      <td>101.0</td>\n",
       "      <td>False</td>\n",
       "      <td>0</td>\n",
       "    </tr>\n",
       "    <tr>\n",
       "      <th>4</th>\n",
       "      <td>15.0</td>\n",
       "      <td>89.0</td>\n",
       "      <td>114.0</td>\n",
       "      <td>78.0</td>\n",
       "      <td>37.1</td>\n",
       "      <td>100.0</td>\n",
       "      <td>101.0</td>\n",
       "      <td>101.0</td>\n",
       "      <td>False</td>\n",
       "      <td>0</td>\n",
       "    </tr>\n",
       "    <tr>\n",
       "      <th>...</th>\n",
       "      <td>...</td>\n",
       "      <td>...</td>\n",
       "      <td>...</td>\n",
       "      <td>...</td>\n",
       "      <td>...</td>\n",
       "      <td>...</td>\n",
       "      <td>...</td>\n",
       "      <td>...</td>\n",
       "      <td>...</td>\n",
       "      <td>...</td>\n",
       "    </tr>\n",
       "    <tr>\n",
       "      <th>131244</th>\n",
       "      <td>23.0</td>\n",
       "      <td>111.0</td>\n",
       "      <td>132.0</td>\n",
       "      <td>99.0</td>\n",
       "      <td>37.0</td>\n",
       "      <td>98.0</td>\n",
       "      <td>109.0</td>\n",
       "      <td>108.0</td>\n",
       "      <td>False</td>\n",
       "      <td>0</td>\n",
       "    </tr>\n",
       "    <tr>\n",
       "      <th>131245</th>\n",
       "      <td>23.0</td>\n",
       "      <td>111.0</td>\n",
       "      <td>132.0</td>\n",
       "      <td>100.0</td>\n",
       "      <td>37.0</td>\n",
       "      <td>98.0</td>\n",
       "      <td>109.0</td>\n",
       "      <td>108.0</td>\n",
       "      <td>False</td>\n",
       "      <td>0</td>\n",
       "    </tr>\n",
       "    <tr>\n",
       "      <th>131246</th>\n",
       "      <td>23.0</td>\n",
       "      <td>111.0</td>\n",
       "      <td>132.0</td>\n",
       "      <td>100.0</td>\n",
       "      <td>37.0</td>\n",
       "      <td>98.0</td>\n",
       "      <td>109.0</td>\n",
       "      <td>108.0</td>\n",
       "      <td>False</td>\n",
       "      <td>0</td>\n",
       "    </tr>\n",
       "    <tr>\n",
       "      <th>131247</th>\n",
       "      <td>23.0</td>\n",
       "      <td>112.0</td>\n",
       "      <td>133.0</td>\n",
       "      <td>101.0</td>\n",
       "      <td>37.0</td>\n",
       "      <td>98.0</td>\n",
       "      <td>109.0</td>\n",
       "      <td>108.0</td>\n",
       "      <td>False</td>\n",
       "      <td>0</td>\n",
       "    </tr>\n",
       "    <tr>\n",
       "      <th>131248</th>\n",
       "      <td>23.0</td>\n",
       "      <td>112.0</td>\n",
       "      <td>133.0</td>\n",
       "      <td>101.0</td>\n",
       "      <td>37.0</td>\n",
       "      <td>98.0</td>\n",
       "      <td>109.0</td>\n",
       "      <td>109.0</td>\n",
       "      <td>False</td>\n",
       "      <td>0</td>\n",
       "    </tr>\n",
       "  </tbody>\n",
       "</table>\n",
       "<p>131249 rows × 10 columns</p>\n",
       "</div>"
      ],
      "text/plain": [
       "        RESP  ABPmean  ABPsys  ABPdias  Tblood   SpO2     HR  PULSE  ALARM  A\n",
       "0       15.0     89.0   114.0     78.0    37.1  100.0  101.0  100.0  False  0\n",
       "1       15.0     89.0   114.0     78.0    37.1  100.0  101.0  101.0  False  0\n",
       "2       15.0     89.0   113.0     78.0    37.1  100.0  101.0  101.0  False  0\n",
       "3       15.0     89.0   113.0     78.0    37.1  100.0  101.0  101.0  False  0\n",
       "4       15.0     89.0   114.0     78.0    37.1  100.0  101.0  101.0  False  0\n",
       "...      ...      ...     ...      ...     ...    ...    ...    ...    ... ..\n",
       "131244  23.0    111.0   132.0     99.0    37.0   98.0  109.0  108.0  False  0\n",
       "131245  23.0    111.0   132.0    100.0    37.0   98.0  109.0  108.0  False  0\n",
       "131246  23.0    111.0   132.0    100.0    37.0   98.0  109.0  108.0  False  0\n",
       "131247  23.0    112.0   133.0    101.0    37.0   98.0  109.0  108.0  False  0\n",
       "131248  23.0    112.0   133.0    101.0    37.0   98.0  109.0  109.0  False  0\n",
       "\n",
       "[131249 rows x 10 columns]"
      ]
     },
     "execution_count": 95,
     "metadata": {},
     "output_type": "execute_result"
    }
   ],
   "source": [
    "df"
   ]
  },
  {
   "cell_type": "code",
   "execution_count": 99,
   "id": "a475a176",
   "metadata": {},
   "outputs": [
    {
     "data": {
      "image/png": "[encoded data removed]",
      "text/plain": [
       "<Figure size 720x720 with 1 Axes>"
      ]
     },
     "metadata": {
      "needs_background": "light"
     },
     "output_type": "display_data"
    }
   ],
   "source": [
    "from mpl_toolkits.mplot3d import Axes3D\n",
    "fig = plt.figure(figsize=(10, 10))\n",
    "ax = plt.axes(projection='3d')\n",
    "\n",
    "\n",
    "\n",
    "x = df[\"SpO2\"]\n",
    "y = df[\"HR\"]\n",
    "z = df[\"Tblood\"]\n",
    "\n",
    "c = (df[\"A\"] +1) //2\n",
    "\n",
    "ax.scatter(x,y,z, c = c)\n",
    "\n",
    "\n",
    "\n",
    "plt.show()"
   ]
  },
  {
   "cell_type": "code",
   "execution_count": null,
   "id": "4bb48395",
   "metadata": {},
   "outputs": [],
   "source": []
  },
  {
   "cell_type": "code",
   "execution_count": null,
   "id": "5cd3b72f",
   "metadata": {},
   "outputs": [],
   "source": []
  }
 ],
 "metadata": {
  "kernelspec": {
   "display_name": "Python 3 (ipykernel)",
   "language": "python",
   "name": "python3"
  },
  "language_info": {
   "codemirror_mode": {
    "name": "ipython",
    "version": 3
   },
   "file_extension": ".py",
   "mimetype": "text/x-python",
   "name": "python",
   "nbconvert_exporter": "python",
   "pygments_lexer": "ipython3",
   "version": "3.9.12"
  },
  "vscode": {
   "interpreter": {
    "hash": "abfa3a40ca4ae14957eab2c7b2340affb65e642fccfdc8bca44a4575b0473079"
   }
  }
 },
 "nbformat": 4,
 "nbformat_minor": 5
}
