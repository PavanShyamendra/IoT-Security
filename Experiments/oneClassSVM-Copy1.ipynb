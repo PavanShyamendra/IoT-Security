{
 "cells": [
  {
   "cell_type": "code",
   "execution_count": 2,
   "id": "9b648b63",
   "metadata": {},
   "outputs": [],
   "source": [
    "import pandas as pd\n",
    "from sklearn.svm import OneClassSVM\n",
    "import matplotlib.pyplot as plt\n",
    "from numpy import where\n",
    "import numpy as np\n"
   ]
  },
  {
   "cell_type": "code",
   "execution_count": 3,
   "id": "32042e9d",
   "metadata": {},
   "outputs": [
    {
     "name": "stderr",
     "output_type": "stream",
     "text": [
      "C:\\Users\\A2IN\\AppData\\Local\\Temp\\ipykernel_11640\\3358253211.py:1: DtypeWarning: Columns (8) have mixed types. Specify dtype option on import or set low_memory=False.\n",
      "  df = pd.read_csv(\"../dataset/DATA_FINAL.csv\")\n"
     ]
    }
   ],
   "source": [
    "df = pd.read_csv(\"../dataset/DATA_FINAL.csv\")\n"
   ]
  },
  {
   "cell_type": "code",
   "execution_count": 4,
   "id": "2f246cd5",
   "metadata": {},
   "outputs": [],
   "source": [
    "df1 = df.loc[:,df.columns != \"ALARM\"]\n",
    "df1[\"ABP\"] = df.iloc[:,1:4].mean(axis = 1)\n",
    "df1 = df1.drop([\"ABPmean\",\"ABPdias\",\"ABPsys\"],axis = 1)"
   ]
  },
  {
   "cell_type": "code",
   "execution_count": 5,
   "id": "0d571706",
   "metadata": {},
   "outputs": [],
   "source": [
    "from sklearn import svm\n",
    "from sklearn.linear_model import SGDOneClassSVM"
   ]
  },
  {
   "cell_type": "code",
   "execution_count": 6,
   "id": "de029372",
   "metadata": {},
   "outputs": [],
   "source": [
    "df1 = df1.dropna()"
   ]
  },
  {
   "cell_type": "code",
   "execution_count": 7,
   "id": "c5174315",
   "metadata": {},
   "outputs": [],
   "source": [
    "y_pred = SGDOneClassSVM()\n",
    "y_pred = y_pred.fit_predict(df1)"
   ]
  },
  {
   "cell_type": "code",
   "execution_count": 8,
   "id": "19ff356f",
   "metadata": {},
   "outputs": [
    {
     "name": "stdout",
     "output_type": "stream",
     "text": [
      "126483\n"
     ]
    }
   ],
   "source": [
    "cou = 0 \n",
    "for i in y_pred:\n",
    "    if i == 1:\n",
    "        cou +=1\n",
    "print(cou)"
   ]
  },
  {
   "cell_type": "code",
   "execution_count": 9,
   "id": "ca8cf725",
   "metadata": {},
   "outputs": [
    {
     "name": "stdout",
     "output_type": "stream",
     "text": [
      "4263\n",
      "0.03248024746855214\n"
     ]
    }
   ],
   "source": [
    "cou = 0\n",
    "for i in df[\"ALARM\"]:\n",
    "    if i == True:\n",
    "        cou+=1\n",
    "print(cou)\n",
    "outlier_fraction = cou/len(df[\"ALARM\"])\n",
    "print(outlier_fraction)"
   ]
  },
  {
   "cell_type": "code",
   "execution_count": 10,
   "id": "6859cd0b",
   "metadata": {},
   "outputs": [],
   "source": [
    "act = []\n",
    "for i in range(len(df[\"ALARM\"])):\n",
    "    if df.loc[i,\"ALARM\"] == True:\n",
    "        act.append(-1)\n",
    "    else :\n",
    "        act.append(1)"
   ]
  },
  {
   "cell_type": "code",
   "execution_count": 11,
   "id": "0a9740bb",
   "metadata": {},
   "outputs": [],
   "source": [
    "i = 0\n",
    "tp =tn =fp =fn = 0\n",
    "\n",
    "for i in range(len(y_pred)):\n",
    "    if act[i] == y_pred[i]:\n",
    "        if act[i] == 1:\n",
    "            tn +=1\n",
    "        else :\n",
    "            tp +=1\n",
    "    else :\n",
    "        if y_pred[i] == -1:\n",
    "            fn += 1\n",
    "        else :\n",
    "            fp += 1"
   ]
  },
  {
   "cell_type": "code",
   "execution_count": 12,
   "id": "c4939fea",
   "metadata": {},
   "outputs": [],
   "source": [
    "accuracy = (tp+tn)/(tp+tn+fn+fp)\n",
    "tpr = tp/(tp+fn)\n",
    "far = fp/(fp+tn)"
   ]
  },
  {
   "cell_type": "code",
   "execution_count": 13,
   "id": "170babb6",
   "metadata": {},
   "outputs": [
    {
     "name": "stdout",
     "output_type": "stream",
     "text": [
      "0.978048896123394 0.0 0.021402085655779828\n"
     ]
    }
   ],
   "source": [
    "print(accuracy,tpr,far)"
   ]
  },
  {
   "cell_type": "code",
   "execution_count": 15,
   "id": "db80255f",
   "metadata": {},
   "outputs": [
    {
     "name": "stdout",
     "output_type": "stream",
     "text": [
      "0 123776 2707 71\n"
     ]
    }
   ],
   "source": [
    "print(tp,tn,fp,fn)"
   ]
  },
  {
   "cell_type": "code",
   "execution_count": 14,
   "id": "577a2623",
   "metadata": {},
   "outputs": [],
   "source": [
    "y_pred = pd.DataFrame(y_pred,columns = [\"predict\"])\n",
    "final_op = pd.concat([df,y_pred],axis = 1)"
   ]
  },
  {
   "cell_type": "code",
   "execution_count": null,
   "id": "6076cb46",
   "metadata": {},
   "outputs": [],
   "source": []
  }
 ],
 "metadata": {
  "kernelspec": {
   "display_name": "Python 3 (ipykernel)",
   "language": "python",
   "name": "python3"
  },
  "language_info": {
   "codemirror_mode": {
    "name": "ipython",
    "version": 3
   },
   "file_extension": ".py",
   "mimetype": "text/x-python",
   "name": "python",
   "nbconvert_exporter": "python",
   "pygments_lexer": "ipython3",
   "version": "3.9.12"
  }
 },
 "nbformat": 4,
 "nbformat_minor": 5
}
