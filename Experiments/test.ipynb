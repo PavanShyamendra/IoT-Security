{
 "cells": [
  {
   "cell_type": "code",
   "execution_count": 1,
   "id": "97d072fd",
   "metadata": {},
   "outputs": [],
   "source": [
    "def call():\n",
    "    print(\"Other File\")"
   ]
  },
  {
   "cell_type": "code",
   "execution_count": 2,
   "id": "fa739619",
   "metadata": {},
   "outputs": [
    {
     "name": "stdout",
     "output_type": "stream",
     "text": [
      "Other File\n"
     ]
    }
   ],
   "source": [
    "call()"
   ]
  },
  {
   "cell_type": "code",
   "execution_count": null,
   "id": "6049621d",
   "metadata": {},
   "outputs": [],
   "source": []
  }
 ],
 "metadata": {
  "kernelspec": {
   "display_name": "Python 3 (ipykernel)",
   "language": "python",
   "name": "python3"
  },
  "language_info": {
   "codemirror_mode": {
    "name": "ipython",
    "version": 3
   },
   "file_extension": ".py",
   "mimetype": "text/x-python",
   "name": "python",
   "nbconvert_exporter": "python",
   "pygments_lexer": "ipython3",
   "version": "3.9.12"
  }
 },
 "nbformat": 4,
 "nbformat_minor": 5
}
