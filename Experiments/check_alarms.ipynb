{
 "cells": [
  {
   "cell_type": "code",
   "execution_count": null,
   "id": "8329015d",
   "metadata": {},
   "outputs": [],
   "source": []
  },
  {
   "cell_type": "code",
   "execution_count": 7,
   "id": "546369df",
   "metadata": {},
   "outputs": [],
   "source": [
    "def break_tab(j,i):\n",
    "    n = len(i)\n",
    "    while j<n and( i[j] == \" \" or i[j] == '\\t'):\n",
    "        j+=1\n",
    "        if j == n:\n",
    "            break\n",
    "    return j"
   ]
  },
  {
   "cell_type": "code",
   "execution_count": 8,
   "id": "dacbc7c0",
   "metadata": {},
   "outputs": [],
   "source": [
    "def cur_metric(i):\n",
    "    cur = \"\"\n",
    "    n = len(i)\n",
    "    j = 0\n",
    "    while j < n:\n",
    "        if i[j] != \" \":\n",
    "            if i[j] == '\\t':\n",
    "                break\n",
    "            cur += i[j]\n",
    "        else: \n",
    "            break\n",
    "        j+=1\n",
    "        \n",
    "    if cur[0] == \"[\":\n",
    "        return  \"Inop\",None\n",
    "    elif cur[:2] == \"AL\":\n",
    "        return \"Alarm\",None\n",
    "    \n",
    "    for c in cur:\n",
    "        if c == 'i':\n",
    "            return \"Inop\",None\n",
    "    \n",
    "    j = break_tab(j,i)\n",
    "    \n",
    "    val = i[j:-1]\n",
    "    for c in val:\n",
    "        if c == 'i':\n",
    "            return \"Inop\",None\n",
    "    val += \"\\t\"\n",
    "    return cur,val "
   ]
  },
  {
   "cell_type": "code",
   "execution_count": 9,
   "id": "a8f6ec99",
   "metadata": {},
   "outputs": [],
   "source": [
    "\n",
    "def perfile(f):\n",
    "    str = \"\"\n",
    "    p = 0\n",
    "    l = []\n",
    "    alarm = 0\n",
    "#     print(len(f))\n",
    "    j = 0\n",
    "    while j< len(f):\n",
    "        if f[j][:4] ==\"RESP\":\n",
    "            break\n",
    "        j+=1\n",
    "    # resp, abp, Tblood, spo2, hr, pulse\n",
    "    k = []\n",
    "    while j< len(f):\n",
    "        alarm = False\n",
    "        l = [None]*7\n",
    "        _,l[0] = cur_metric(f[j])\n",
    "        j+=1\n",
    "        if j>=len(f):\n",
    "            break\n",
    "        \n",
    "        while f[j][:4] != \"RESP\":\n",
    "            _,val = cur_metric(f[j])\n",
    "            if _ == \"ABP\":\n",
    "                l[1] = val\n",
    "            elif _ == \"Tblood\":\n",
    "                l[2] = val\n",
    "            elif _ == \"SpO2\":\n",
    "                l[3] = val\n",
    "            elif _ == \"HR\":\n",
    "                l[4] = val\n",
    "            elif _ == \"PULSE\":\n",
    "                l[5] = val\n",
    "            elif _ == \"Alarm\":\n",
    "                alarm = True\n",
    "            j+=1\n",
    "            if j >= len(f):\n",
    "                break\n",
    "        \n",
    "        if alarm == True:\n",
    "            l[6] = \"True\\n\"\n",
    "        else :\n",
    "            l[6] = \"False\\n\"\n",
    "        new = \"\"\n",
    "        i = 0\n",
    "        while i < len(l):\n",
    "            if l[i] != None:\n",
    "                new += l[i]\n",
    "            else :\n",
    "                if i == 1:\n",
    "                    new +=\"\\t\\t\\t\"\n",
    "                else :\n",
    "                    new += \"\\t\"\n",
    "            i+=1\n",
    "#         print(new)\n",
    "        k.extend(new)\n",
    "    return k"
   ]
  },
  {
   "cell_type": "code",
   "execution_count": 11,
   "id": "55619224",
   "metadata": {},
   "outputs": [],
   "source": [
    "alarm = []\n",
    "final = []\n",
    "import os\n",
    "# assign directory\n",
    "cur = 'D:/4-1/mimic-database-1.0.0/mimic-database-1.0.0/442'\n",
    "\n",
    "for f in os.listdir(cur):\n",
    "    file = cur + \"/\" + f\n",
    "    if os.path.isfile(file):\n",
    "        if file[-4:] == \".txt\":\n",
    "            every_file = open(file,\"r\")\n",
    "            every = every_file.readlines()\n",
    "            alarm = perfile(every)\n",
    "            final.extend(alarm)\n",
    "file1 = open(\"C:/Users/A2IN/OneDrive/Desktop/IoT Security Research Papers/dataset/\"+\"final_442\"+\".txt\",\"w\")\n",
    "file1.writelines(final)\n",
    "file1.close()\n"
   ]
  },
  {
   "cell_type": "code",
   "execution_count": null,
   "id": "e10810ab",
   "metadata": {},
   "outputs": [],
   "source": [
    "import numpy as np\n",
    "import pandas as pd\n"
   ]
  },
  {
   "cell_type": "code",
   "execution_count": null,
   "id": "c6c12781",
   "metadata": {},
   "outputs": [],
   "source": [
    "alarm"
   ]
  },
  {
   "cell_type": "code",
   "execution_count": null,
   "id": "2c67c6a1",
   "metadata": {},
   "outputs": [],
   "source": [
    "type(alarm)"
   ]
  },
  {
   "cell_type": "code",
   "execution_count": null,
   "id": "1a6350d4",
   "metadata": {},
   "outputs": [],
   "source": []
  },
  {
   "cell_type": "code",
   "execution_count": null,
   "id": "05641b2e",
   "metadata": {},
   "outputs": [],
   "source": [
    "print(alarm)"
   ]
  },
  {
   "cell_type": "code",
   "execution_count": null,
   "id": "30af48aa",
   "metadata": {},
   "outputs": [],
   "source": [
    "l = [\"1\\t\",\"2\\n\",\"1\\n\"]\n",
    "print(l)"
   ]
  },
  {
   "cell_type": "code",
   "execution_count": null,
   "id": "d38bba30",
   "metadata": {},
   "outputs": [],
   "source": [
    "file1 = open(\"C:/Users/A2IN/OneDrive/Desktop/IoT Security Research Papers/dataset/check.txt\",\"w\")\n",
    "file1.writelines(l)\n",
    "file1.close()"
   ]
  },
  {
   "cell_type": "code",
   "execution_count": null,
   "id": "442ad4f5",
   "metadata": {},
   "outputs": [],
   "source": []
  }
 ],
 "metadata": {
  "kernelspec": {
   "display_name": "Python 3 (ipykernel)",
   "language": "python",
   "name": "python3"
  },
  "language_info": {
   "codemirror_mode": {
    "name": "ipython",
    "version": 3
   },
   "file_extension": ".py",
   "mimetype": "text/x-python",
   "name": "python",
   "nbconvert_exporter": "python",
   "pygments_lexer": "ipython3",
   "version": "3.9.12"
  }
 },
 "nbformat": 4,
 "nbformat_minor": 5
}
